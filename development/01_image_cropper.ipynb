{
 "cells": [
  {
   "cell_type": "markdown",
   "metadata": {},
   "source": [
    "# Project 1: Image Cropper\n",
    "\n",
    "In this project we will be using NumPy to transform an image into an array, extract some basic information from it like its shape and size, and then crop it with a custom size. We will also be using PIL to read the image and Matplotlib to display it.\n",
    "\n",
    "There will be a default image to start with but this program shoud be able to work with any image.\n",
    "\n",
    "### Project Tasks:\n",
    "\n",
    "- `1.1.` Take the image array `img_arr` and get its shape and size.\n",
    "\n",
    "- `1.2.` Define the dimensions of the crop, make sure that min is smaller than max and also that min is larger than 0 and max is smaller than the size of the image for every dimension. If not, print a message explaining the error.\n",
    "\n",
    "- `1.3.` Crop the image into a new array and display it.\n",
    "\n",
    "- `1.4.` Save the cropped image as a new file, declaring a variable to chose the new file name."
   ]
  },
  {
   "cell_type": "code",
   "execution_count": null,
   "metadata": {},
   "outputs": [],
   "source": [
    "# The library you have to use\n",
    "import numpy as np\n",
    "\n",
    "# Some extra libraries to deal with images and files\n",
    "from PIL import Image\n",
    "import matplotlib.pyplot as plt"
   ]
  },
  {
   "cell_type": "code",
   "execution_count": null,
   "metadata": {},
   "outputs": [],
   "source": [
    "img_path = \"../data/starry_night.png\"\n",
    "\n",
    "with Image.open(img_path) as img:\n",
    "    img_arr = np.array(img)\n",
    "\n",
    "plt.imshow(img_arr)"
   ]
  },
  {
   "cell_type": "code",
   "execution_count": null,
   "metadata": {},
   "outputs": [],
   "source": [
    "# Ex 1.1: Get the height and width of the image in pixels\n",
    "\n",
    "max_height, max_width, _ = img_arr.shape  # We extract the height and width from the image array shape\n",
    "\n",
    "print(f\"Height: {max_height} pixels\")\n",
    "print(f\"Width: {max_width} pixels\")"
   ]
  },
  {
   "cell_type": "code",
   "execution_count": null,
   "metadata": {},
   "outputs": [],
   "source": []
  },
  {
   "cell_type": "code",
   "execution_count": null,
   "metadata": {},
   "outputs": [],
   "source": [
    "# Ex 1.2: Define the dimensions of the crop, make sure that min is smaller than max and also that min is larger than 0 \n",
    "# and max is smaller than the size of the image for every dimension. If not, print a message explaining the error.\n",
    "\n",
    "crop_min_h = 600 \n",
    "crop_max_h = 1000\n",
    "crop_min_w = 550\n",
    "crop_max_w = 1100\n",
    "\n",
    "# Constraint checks\n",
    "if crop_min_h < 0 or crop_max_h > max_height or crop_min_h >= crop_max_h:\n",
    "    print(\"Invalid height crop dimensions.\")\n",
    "elif crop_min_w < 0 or crop_max_w > max_width or crop_min_w >= crop_max_w:\n",
    "    print(\"Invalid width crop dimensions.\")\n",
    "else:\n",
    "    print(\"Crop dimensions are valid.\")"
   ]
  },
  {
   "cell_type": "code",
   "execution_count": null,
   "metadata": {},
   "outputs": [],
   "source": [
    "# Ex 1.3: Generate the crop array into a new variable, use NumPy array slicing\n",
    "if crop_min_h >= 0 and crop_max_h <= max_height and crop_min_h < crop_max_h and crop_min_w >= 0 and crop_max_w <= max_width and crop_min_w < crop_max_w:\n",
    "    crop_arr = img_arr[crop_min_h:crop_max_h, crop_min_w:crop_max_w]\n",
    "    \n",
    "    # Display the cropped image\n",
    "    plt.imshow(crop_arr)\n",
    "    plt.show()"
   ]
  },
  {
   "cell_type": "code",
   "execution_count": null,
   "metadata": {},
   "outputs": [],
   "source": [
    "# Display the cropped image\n",
    "plt.imshow(crop_arr)"
   ]
  },
  {
   "cell_type": "code",
   "execution_count": null,
   "metadata": {},
   "outputs": [],
   "source": [
    "# Ex 1.4: Saving the cropped image into a new file, set the filename of the new image\n",
    "\n",
    "crop_img = Image.fromarray(crop_arr)\n",
    "\n",
    "file_name = \"cropped_image\"  # Change this as needed\n",
    "\n",
    "crop_img.save(f\"../data/{file_name}.png\")\n",
    "print(f\"Cropped image saved as {file_name}.png\")"
   ]
  }
 ]
}
