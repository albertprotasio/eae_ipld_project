# Project 1: Image Cropper
# In this project we will be using NumPy to transform an image into an array,
# extract some basic information from it like its shape and size, and then crop it with a custom size.
# We will also be using PIL to read the image and Matplotlib to display it.

# The libraries to be used
import numpy as np
from PIL import Image
import matplotlib.pyplot as plt

# Path to the image file
img_path = "../data/starry_night.png"  # You can modify this path to use a different image

# Open the image using PIL and convert it to a NumPy array
with Image.open(img_path) as img:
    img_arr = np.array(img)

# Ex 1.1: Get the height and width of the image in pixels
max_height = img_arr.shape[0]  # height of the image
max_width = img_arr.shape[1]   # width of the image

# Print the height and width
print(f"Height: {max_height} pixels")
print(f"Width: {max_width} pixels")

# Ex 1.2: Define the dimensions of the crop, make sure that min is smaller than max
# and also that min is larger than 0 and max is smaller than the size of the image for every dimension.
# If not, print a message explaining the error.

# Example crop dimensions (You can modify these to test different crops)
crop_min_h = 600 
crop_max_h = 1000
crop_min_w = 550
crop_max_w = 1100

# Constraint checks
if crop_min_h < 0 or crop_max_h > max_height or crop_min_h >= crop_max_h:
    print("Error: Invalid height crop dimensions!")
elif crop_min_w < 0 or crop_max_w > max_width or crop_min_w >= crop_max_w:
    print("Error: Invalid width crop dimensions!")
else:
    # Ex 1.3: Generate the crop array into a new variable, using NumPy array slicing
    crop_arr = img_arr[crop_min_h:crop_max_h, crop_min_w:crop_max_w]

    # Display the cropped image
    plt.imshow(crop_arr)
    plt.axis('off')  # Hide axes
    plt.show()

    # Ex 1.4: Saving the cropped image into a new file, set the filename of the new image
    crop_img = Image.fromarray(crop_arr)

    # Set the file name for the new cropped image
    file_name = "starry_night_cropped"  # You can modify this to any desired name

    # Save the cropped image to the specified path
    crop_img.save(f"../data/{file_name}.png")

    print(f"Cropped image saved as {file_name}.png")
